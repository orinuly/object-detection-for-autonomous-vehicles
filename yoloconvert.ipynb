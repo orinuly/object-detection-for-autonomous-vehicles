{
 "cells": [
  {
   "cell_type": "markdown",
   "metadata": {},
   "source": [
    "Necessary Libraries for KITTI to YOLO Label Converter Code"
   ]
  },
  {
   "cell_type": "code",
   "execution_count": null,
   "metadata": {},
   "outputs": [],
   "source": [
    "import os\n",
    "import cv2"
   ]
  },
  {
   "cell_type": "markdown",
   "metadata": {},
   "source": [
    "Directory Paths with the KITTI Labels and Images"
   ]
  },
  {
   "cell_type": "code",
   "execution_count": null,
   "metadata": {},
   "outputs": [],
   "source": [
    "kitti_labels_dir = 'data_object_label_2/training/label_2/'\n",
    "kitti_images_dir = 'data_object_image_2/training/image_2/'"
   ]
  },
  {
   "cell_type": "markdown",
   "metadata": {},
   "source": [
    "YOLO Formated Labels"
   ]
  },
  {
   "cell_type": "code",
   "execution_count": null,
   "metadata": {},
   "outputs": [],
   "source": [
    "yolo_labels_dir = 'yolo_labels/'\n",
    "os.makedirs(yolo_labels_dir, exist_ok=True)"
   ]
  },
  {
   "cell_type": "markdown",
   "metadata": {},
   "source": [
    "Dictionary that Maps Object Class Names"
   ]
  },
  {
   "cell_type": "code",
   "execution_count": null,
   "metadata": {},
   "outputs": [],
   "source": [
    "class_mapping = {'Car': 0, 'Pedestrian': 1, 'Cyclist': 2}"
   ]
  },
  {
   "cell_type": "markdown",
   "metadata": {},
   "source": [
    "Convert KITTI Label Format to YOLO Format and Save the Results to a File"
   ]
  },
  {
   "cell_type": "code",
   "execution_count": null,
   "metadata": {},
   "outputs": [],
   "source": [
    "def convert_kitti_to_yolo(label_file, image_file, output_file):\n",
    "    #Read the KITTI label file\n",
    "    with open(label_file, 'r') as f:\n",
    "        lines = f.readlines()\n",
    "\n",
    "    #Read the image to get its dimensions\n",
    "    img = cv2.imread(image_file)\n",
    "    height, width, _ = img.shape\n",
    "\n",
    "    #YOLO formatted label strings\n",
    "    yolo_labels = []\n",
    "\n",
    "    for line in lines:\n",
    "        #Split each line by spaces to extract values\n",
    "        parts = line.strip().split(' ')\n",
    "        class_name = parts[0]\n",
    "\n",
    "        if class_name in class_mapping:\n",
    "            class_id = class_mapping[class_name]\n",
    "\n",
    "            #Extract bounding box coordinates from KITTI label\n",
    "            bbox_left = float(parts[4])\n",
    "            bbox_top = float(parts[5])\n",
    "            bbox_right = float(parts[6])\n",
    "            bbox_bottom = float(parts[7])\n",
    "\n",
    "            #x_center, y_center are the center of the bounding box\n",
    "            #bbox_width, bbox_height are the width and height of the bounding box\n",
    "            x_center = (bbox_left + bbox_right) / 2.0 / width\n",
    "            y_center = (bbox_top + bbox_bottom) / 2.0 / height\n",
    "            bbox_width = (bbox_right - bbox_left) / width\n",
    "            bbox_height = (bbox_bottom - bbox_top) / height\n",
    "\n",
    "            #Append to the list\n",
    "            yolo_labels.append(f\"{class_id} {x_center} {y_center} {bbox_width} {bbox_height}\")\n",
    "\n",
    "    #Write the YOLO formatted labels to the output file\n",
    "    with open(output_file, 'w') as f:\n",
    "        for label in yolo_labels:\n",
    "            f.write(f\"{label}\\n\")\n",
    "\n",
    "for label_file in os.listdir(kitti_labels_dir):\n",
    "    if label_file.endswith(\".txt\"):\n",
    "\n",
    "        # Generate corresponding image file path by replacing '.txt' with '.png'\n",
    "        img_file = os.path.join(kitti_images_dir, label_file.replace(\".txt\", \".png\"))\n",
    "        \n",
    "        yolo_label_file = os.path.join(yolo_labels_dir, label_file)\n",
    "\n",
    "        convert_kitti_to_yolo(\n",
    "            label_file=os.path.join(kitti_labels_dir, label_file),\n",
    "            image_file=img_file,\n",
    "            output_file=yolo_label_file\n",
    "        )"
   ]
  }
 ],
 "metadata": {
  "kernelspec": {
   "display_name": "Python 3",
   "language": "python",
   "name": "python3"
  },
  "language_info": {
   "codemirror_mode": {
    "name": "ipython",
    "version": 3
   },
   "file_extension": ".py",
   "mimetype": "text/x-python",
   "name": "python",
   "nbconvert_exporter": "python",
   "pygments_lexer": "ipython3",
   "version": "3.12.3"
  }
 },
 "nbformat": 4,
 "nbformat_minor": 2
}
